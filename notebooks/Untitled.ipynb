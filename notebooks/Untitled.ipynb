{
 "cells": [
  {
   "cell_type": "code",
   "execution_count": 1,
   "metadata": {},
   "outputs": [],
   "source": [
    "import os"
   ]
  },
  {
   "cell_type": "code",
   "execution_count": 2,
   "metadata": {},
   "outputs": [],
   "source": [
    "csv_dir = \"../data/tabular\""
   ]
  },
  {
   "cell_type": "code",
   "execution_count": 6,
   "metadata": {},
   "outputs": [],
   "source": [
    "import pandas as pd\n",
    "from tqdm import tqdm"
   ]
  },
  {
   "cell_type": "code",
   "execution_count": 17,
   "metadata": {},
   "outputs": [],
   "source": [
    "dados = pd.DataFrame(columns = ['ponto', 'local', 'categoria', 'campanha', 'boletim', 'data', 'nome_ponto', 'cod_regiao', 'cod_ponto', 'cod_monitor'])"
   ]
  },
  {
   "cell_type": "code",
   "execution_count": 27,
   "metadata": {},
   "outputs": [
    {
     "name": "stderr",
     "output_type": "stream",
     "text": [
      "100%|██████████| 2196/2196 [00:49<00:00, 43.97it/s]\n"
     ]
    }
   ],
   "source": [
    "for file in tqdm(os.listdir(csv_dir)):\n",
    "    df_name = f\"{csv_dir}/{file}\"\n",
    "    df = pd.read_csv(df_name)\n",
    "    dados = dados.append(df, ignore_index = True)"
   ]
  },
  {
   "cell_type": "code",
   "execution_count": 28,
   "metadata": {},
   "outputs": [
    {
     "data": {
      "text/plain": [
       "(48294, 10)"
      ]
     },
     "execution_count": 28,
     "metadata": {},
     "output_type": "execute_result"
    }
   ],
   "source": [
    "dados.shape"
   ]
  },
  {
   "cell_type": "raw",
   "metadata": {},
   "source": [
    "print(list(df.columns))"
   ]
  },
  {
   "cell_type": "code",
   "execution_count": 29,
   "metadata": {},
   "outputs": [
    {
     "data": {
      "text/html": [
       "<div>\n",
       "<style scoped>\n",
       "    .dataframe tbody tr th:only-of-type {\n",
       "        vertical-align: middle;\n",
       "    }\n",
       "\n",
       "    .dataframe tbody tr th {\n",
       "        vertical-align: top;\n",
       "    }\n",
       "\n",
       "    .dataframe thead th {\n",
       "        text-align: right;\n",
       "    }\n",
       "</style>\n",
       "<table border=\"1\" class=\"dataframe\">\n",
       "  <thead>\n",
       "    <tr style=\"text-align: right;\">\n",
       "      <th></th>\n",
       "      <th>ponto</th>\n",
       "      <th>local</th>\n",
       "      <th>categoria</th>\n",
       "      <th>campanha</th>\n",
       "      <th>boletim</th>\n",
       "      <th>data</th>\n",
       "      <th>nome_ponto</th>\n",
       "      <th>cod_regiao</th>\n",
       "      <th>cod_ponto</th>\n",
       "      <th>cod_monitor</th>\n",
       "    </tr>\n",
       "  </thead>\n",
       "  <tbody>\n",
       "    <tr>\n",
       "      <th>0</th>\n",
       "      <td>Madre de Deus - BTS MD 100</td>\n",
       "      <td>Em frente à Igreja.</td>\n",
       "      <td>Imprópria</td>\n",
       "      <td>21661</td>\n",
       "      <td>03/2016</td>\n",
       "      <td>2016-01-22</td>\n",
       "      <td>Madre de Deus</td>\n",
       "      <td>BTS</td>\n",
       "      <td>MD</td>\n",
       "      <td>100</td>\n",
       "    </tr>\n",
       "    <tr>\n",
       "      <th>1</th>\n",
       "      <td>Madre de Deus - BTS MD 200</td>\n",
       "      <td>Em frente à Câmara Municipal de Madre de Deus.</td>\n",
       "      <td>Própria</td>\n",
       "      <td>21661</td>\n",
       "      <td>03/2016</td>\n",
       "      <td>2016-01-22</td>\n",
       "      <td>Madre de Deus</td>\n",
       "      <td>BTS</td>\n",
       "      <td>MD</td>\n",
       "      <td>200</td>\n",
       "    </tr>\n",
       "    <tr>\n",
       "      <th>2</th>\n",
       "      <td>Madre de Deus - BTS MD 300</td>\n",
       "      <td>Sob a ponte em Madre de Deus.</td>\n",
       "      <td>Imprópria</td>\n",
       "      <td>21661</td>\n",
       "      <td>03/2016</td>\n",
       "      <td>2016-01-22</td>\n",
       "      <td>Madre de Deus</td>\n",
       "      <td>BTS</td>\n",
       "      <td>MD</td>\n",
       "      <td>300</td>\n",
       "    </tr>\n",
       "    <tr>\n",
       "      <th>3</th>\n",
       "      <td>Bom Jesus dos Pobres - BTS JP 100</td>\n",
       "      <td>Em frente à barraca de praia Joia Rara.</td>\n",
       "      <td>Imprópria</td>\n",
       "      <td>21661</td>\n",
       "      <td>03/2016</td>\n",
       "      <td>2016-01-22</td>\n",
       "      <td>Bom Jesus dos Pobres</td>\n",
       "      <td>BTS</td>\n",
       "      <td>JP</td>\n",
       "      <td>100</td>\n",
       "    </tr>\n",
       "    <tr>\n",
       "      <th>4</th>\n",
       "      <td>Cabuçu - BTS CB 100</td>\n",
       "      <td>Em frente às barracas da Rua do Porto.</td>\n",
       "      <td>Imprópria</td>\n",
       "      <td>21661</td>\n",
       "      <td>03/2016</td>\n",
       "      <td>2016-01-22</td>\n",
       "      <td>Cabuçu</td>\n",
       "      <td>BTS</td>\n",
       "      <td>CB</td>\n",
       "      <td>100</td>\n",
       "    </tr>\n",
       "  </tbody>\n",
       "</table>\n",
       "</div>"
      ],
      "text/plain": [
       "                               ponto  \\\n",
       "0         Madre de Deus - BTS MD 100   \n",
       "1         Madre de Deus - BTS MD 200   \n",
       "2         Madre de Deus - BTS MD 300   \n",
       "3  Bom Jesus dos Pobres - BTS JP 100   \n",
       "4                Cabuçu - BTS CB 100   \n",
       "\n",
       "                                            local  categoria campanha  \\\n",
       "0                             Em frente à Igreja.  Imprópria    21661   \n",
       "1  Em frente à Câmara Municipal de Madre de Deus.    Própria    21661   \n",
       "2                   Sob a ponte em Madre de Deus.  Imprópria    21661   \n",
       "3         Em frente à barraca de praia Joia Rara.  Imprópria    21661   \n",
       "4          Em frente às barracas da Rua do Porto.  Imprópria    21661   \n",
       "\n",
       "   boletim        data            nome_ponto cod_regiao cod_ponto cod_monitor  \n",
       "0  03/2016  2016-01-22         Madre de Deus        BTS        MD         100  \n",
       "1  03/2016  2016-01-22         Madre de Deus        BTS        MD         200  \n",
       "2  03/2016  2016-01-22         Madre de Deus        BTS        MD         300  \n",
       "3  03/2016  2016-01-22  Bom Jesus dos Pobres        BTS        JP         100  \n",
       "4  03/2016  2016-01-22                Cabuçu        BTS        CB         100  "
      ]
     },
     "execution_count": 29,
     "metadata": {},
     "output_type": "execute_result"
    }
   ],
   "source": [
    "dados.head()"
   ]
  },
  {
   "cell_type": "code",
   "execution_count": 44,
   "metadata": {},
   "outputs": [
    {
     "data": {
      "text/plain": [
       "192      São Tomé de Paripe\n",
       "193                Periperi\n",
       "194                   Penha\n",
       "195                  Bogari\n",
       "196            Pedra Furada\n",
       "                ...        \n",
       "48289       Lagoa de Abaete\n",
       "48290       Farol de Itapuã\n",
       "48291          Stella Mares\n",
       "48292              Flamengo\n",
       "48293              Flamengo\n",
       "Name: nome_ponto, Length: 20339, dtype: object"
      ]
     },
     "execution_count": 44,
     "metadata": {},
     "output_type": "execute_result"
    }
   ],
   "source": [
    "dados[dados[\"cod_regiao\"] == \"SSA\"][\"nome_ponto\"]"
   ]
  },
  {
   "cell_type": "code",
   "execution_count": 34,
   "metadata": {},
   "outputs": [
    {
     "data": {
      "text/plain": [
       "{'BTS', 'CBL', 'CCA', 'CCQ', 'CDC', 'CDD', 'SSA'}"
      ]
     },
     "execution_count": 34,
     "metadata": {},
     "output_type": "execute_result"
    }
   ],
   "source": [
    "set(dados[\"cod_regiao\"])"
   ]
  },
  {
   "cell_type": "code",
   "execution_count": 47,
   "metadata": {},
   "outputs": [],
   "source": [
    "flamengo = dados[(dados[\"cod_regiao\"] == \"SSA\") & (dados[\"nome_ponto\"] == \"Penha\") & (dados[\"cod_monitor\"]==100)]"
   ]
  },
  {
   "cell_type": "code",
   "execution_count": 48,
   "metadata": {},
   "outputs": [
    {
     "data": {
      "text/html": [
       "<div>\n",
       "<style scoped>\n",
       "    .dataframe tbody tr th:only-of-type {\n",
       "        vertical-align: middle;\n",
       "    }\n",
       "\n",
       "    .dataframe tbody tr th {\n",
       "        vertical-align: top;\n",
       "    }\n",
       "\n",
       "    .dataframe thead th {\n",
       "        text-align: right;\n",
       "    }\n",
       "</style>\n",
       "<table border=\"1\" class=\"dataframe\">\n",
       "  <thead>\n",
       "    <tr style=\"text-align: right;\">\n",
       "      <th></th>\n",
       "      <th>ponto</th>\n",
       "      <th>local</th>\n",
       "      <th>campanha</th>\n",
       "      <th>boletim</th>\n",
       "      <th>data</th>\n",
       "      <th>nome_ponto</th>\n",
       "      <th>cod_regiao</th>\n",
       "      <th>cod_ponto</th>\n",
       "      <th>cod_monitor</th>\n",
       "    </tr>\n",
       "    <tr>\n",
       "      <th>categoria</th>\n",
       "      <th></th>\n",
       "      <th></th>\n",
       "      <th></th>\n",
       "      <th></th>\n",
       "      <th></th>\n",
       "      <th></th>\n",
       "      <th></th>\n",
       "      <th></th>\n",
       "      <th></th>\n",
       "    </tr>\n",
       "  </thead>\n",
       "  <tbody>\n",
       "    <tr>\n",
       "      <th>Imprópria</th>\n",
       "      <td>417</td>\n",
       "      <td>417</td>\n",
       "      <td>417</td>\n",
       "      <td>417</td>\n",
       "      <td>417</td>\n",
       "      <td>417</td>\n",
       "      <td>417</td>\n",
       "      <td>417</td>\n",
       "      <td>417</td>\n",
       "    </tr>\n",
       "    <tr>\n",
       "      <th>Indisponível</th>\n",
       "      <td>108</td>\n",
       "      <td>108</td>\n",
       "      <td>108</td>\n",
       "      <td>108</td>\n",
       "      <td>108</td>\n",
       "      <td>108</td>\n",
       "      <td>108</td>\n",
       "      <td>108</td>\n",
       "      <td>108</td>\n",
       "    </tr>\n",
       "    <tr>\n",
       "      <th>Própria</th>\n",
       "      <td>70</td>\n",
       "      <td>70</td>\n",
       "      <td>70</td>\n",
       "      <td>70</td>\n",
       "      <td>70</td>\n",
       "      <td>70</td>\n",
       "      <td>70</td>\n",
       "      <td>70</td>\n",
       "      <td>70</td>\n",
       "    </tr>\n",
       "  </tbody>\n",
       "</table>\n",
       "</div>"
      ],
      "text/plain": [
       "              ponto  local  campanha  boletim  data  nome_ponto  cod_regiao  \\\n",
       "categoria                                                                     \n",
       "Imprópria       417    417       417      417   417         417         417   \n",
       "Indisponível    108    108       108      108   108         108         108   \n",
       "Própria          70     70        70       70    70          70          70   \n",
       "\n",
       "              cod_ponto  cod_monitor  \n",
       "categoria                             \n",
       "Imprópria           417          417  \n",
       "Indisponível        108          108  \n",
       "Própria              70           70  "
      ]
     },
     "execution_count": 48,
     "metadata": {},
     "output_type": "execute_result"
    }
   ],
   "source": [
    "flamengo.groupby(\"categoria\").count()"
   ]
  },
  {
   "cell_type": "code",
   "execution_count": null,
   "metadata": {},
   "outputs": [],
   "source": []
  }
 ],
 "metadata": {
  "kernelspec": {
   "display_name": "Python 3",
   "language": "python",
   "name": "python3"
  },
  "language_info": {
   "codemirror_mode": {
    "name": "ipython",
    "version": 3
   },
   "file_extension": ".py",
   "mimetype": "text/x-python",
   "name": "python",
   "nbconvert_exporter": "python",
   "pygments_lexer": "ipython3",
   "version": "3.8.5"
  }
 },
 "nbformat": 4,
 "nbformat_minor": 4
}
