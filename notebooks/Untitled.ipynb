{
 "cells": [
  {
   "cell_type": "code",
   "execution_count": 1,
   "metadata": {},
   "outputs": [],
   "source": [
    "import os\n",
    "os.chdir(\"..\")"
   ]
  },
  {
   "cell_type": "code",
   "execution_count": 2,
   "metadata": {},
   "outputs": [],
   "source": [
    "from src.utils import get_configs, init_logs"
   ]
  },
  {
   "cell_type": "code",
   "execution_count": null,
   "metadata": {},
   "outputs": [],
   "source": []
  },
  {
   "cell_type": "code",
   "execution_count": null,
   "metadata": {},
   "outputs": [],
   "source": []
  },
  {
   "cell_type": "code",
   "execution_count": 3,
   "metadata": {},
   "outputs": [],
   "source": [
    "config = get_configs()"
   ]
  },
  {
   "cell_type": "code",
   "execution_count": 4,
   "metadata": {},
   "outputs": [],
   "source": [
    "logs_filepath = init_logs(config)"
   ]
  },
  {
   "cell_type": "code",
   "execution_count": null,
   "metadata": {},
   "outputs": [],
   "source": []
  },
  {
   "cell_type": "code",
   "execution_count": null,
   "metadata": {},
   "outputs": [],
   "source": []
  },
  {
   "cell_type": "code",
   "execution_count": null,
   "metadata": {},
   "outputs": [],
   "source": []
  },
  {
   "cell_type": "code",
   "execution_count": null,
   "metadata": {},
   "outputs": [],
   "source": [
    "import requests\n",
    "from bs4 import BeautifulSoup as bs\n",
    "\n",
    "def list_boletins(config):\n",
    "    website_config = config.get(\"website\")\n",
    "    home_url = \"{}/{}\".format(website_config.get(\"baseUrl\"), website_config.get(\"homeIdx\"))\n",
    "    req = requests.get(home_url)\n",
    "    soup = bs(req.content, 'html.parser')\n",
    "    list_boletins = soup.find(id=\"idcampanha\").find_all(\"option\")\n",
    "    return list_boletins[1:]"
   ]
  },
  {
   "cell_type": "code",
   "execution_count": null,
   "metadata": {},
   "outputs": [],
   "source": []
  },
  {
   "cell_type": "code",
   "execution_count": null,
   "metadata": {},
   "outputs": [],
   "source": [
    "def extract_boletim_info(boletim, config):\n",
    "    logs = get_logs(config)\n",
    "    dicionario = None\n",
    "    # Get principal informations\n",
    "    value = boletim.get(\"value\")\n",
    "    if not value in logs:   \n",
    "        dicionario = dict()\n",
    "        text = boletim.get_text()\n",
    "        # Extract information from text\n",
    "        info = [x.strip().split() for x in text.split(\"-\")]\n",
    "        campanha = extract_info(info, 0, 1)\n",
    "        regiao = extract_info(info, 0, 2)\n",
    "        dia =  extract_info(info, 1, 0)\n",
    "        # Create dict\n",
    "        dicionario[value] = {\"regiao\": regiao, \"campanha\": campanha, \"dia\": dia}\n",
    "        # Return dictionary\n",
    "    return value, dicionario"
   ]
  },
  {
   "cell_type": "code",
   "execution_count": null,
   "metadata": {},
   "outputs": [],
   "source": [
    "def registry_boletim(dicionario, config):\n",
    "    if dicionario is not None:\n",
    "        data_config = config.get(\"data\")\n",
    "        root_dir = data_config.get(\"root\")\n",
    "        logs_dir = data_config.get(\"logs\").get(\"dir\")\n",
    "        filename = data_config.get(\"logs\").get(\"file\")\n",
    "        filepath = f\"{root_dir}/{logs_dir}/{filename}\"\n",
    "        logs = get_logs(config)\n",
    "        index = list(dicionario.keys())[0]\n",
    "        logs[index] = dicionario[index]\n",
    "        with open(filepath, 'w') as f:\n",
    "            json.dump(logs, f)"
   ]
  },
  {
   "cell_type": "code",
   "execution_count": null,
   "metadata": {},
   "outputs": [],
   "source": [
    "from time import sleep\n",
    "from tqdm import tqdm\n",
    "from urllib.request import urlretrieve\n",
    "\n",
    "def download_boletim(list_boletins, config, prefix=\"boletim\"):\n",
    "    \n",
    "    base_url = config.get('website').get('baseUrl')\n",
    "    root_dir = config.get('data').get('root')\n",
    "    raw_dir = config.get('data').get('raw')\n",
    "    \n",
    "    for boletim in tqdm(list_boletins[1:5]):\n",
    "        sleep(5)\n",
    "        id_campanha, dicionario = extract_boletim_info(boletim, config)\n",
    "        if dicionario is not None:\n",
    "            boletim_url = f\"{base_url}?idcampanha={id_campanha}\"\n",
    "            urlretrieve(boletim_url, f\"{root_dir}/{raw_dir}/{prefix}_{id_campanha}.pdf\")\n",
    "            registry_boletim(dicionario, config)"
   ]
  },
  {
   "cell_type": "code",
   "execution_count": null,
   "metadata": {},
   "outputs": [],
   "source": [
    "config = get_config()"
   ]
  },
  {
   "cell_type": "code",
   "execution_count": null,
   "metadata": {},
   "outputs": [],
   "source": [
    "init_logs(config)"
   ]
  },
  {
   "cell_type": "code",
   "execution_count": null,
   "metadata": {},
   "outputs": [],
   "source": [
    "logs = get_logs(config)"
   ]
  },
  {
   "cell_type": "code",
   "execution_count": null,
   "metadata": {},
   "outputs": [],
   "source": [
    "list_boletins = list_boletins(config)"
   ]
  },
  {
   "cell_type": "code",
   "execution_count": null,
   "metadata": {},
   "outputs": [],
   "source": [
    "download_boletim(list_boletins, config)"
   ]
  }
 ],
 "metadata": {
  "kernelspec": {
   "display_name": "Python 3",
   "language": "python",
   "name": "python3"
  },
  "language_info": {
   "codemirror_mode": {
    "name": "ipython",
    "version": 3
   },
   "file_extension": ".py",
   "mimetype": "text/x-python",
   "name": "python",
   "nbconvert_exporter": "python",
   "pygments_lexer": "ipython3",
   "version": "3.8.5"
  }
 },
 "nbformat": 4,
 "nbformat_minor": 4
}
